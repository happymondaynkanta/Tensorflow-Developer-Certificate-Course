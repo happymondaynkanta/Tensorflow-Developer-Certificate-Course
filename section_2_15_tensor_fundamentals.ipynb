{
  "nbformat": 4,
  "nbformat_minor": 0,
  "metadata": {
    "colab": {
      "name": "section_2_15_tensor_fundamentals.ipynb",
      "provenance": [],
      "authorship_tag": "ABX9TyPBZiex+5Xrj2NhoNcWo0fs",
      "include_colab_link": true
    },
    "kernelspec": {
      "name": "python3",
      "display_name": "Python 3"
    },
    "language_info": {
      "name": "python"
    }
  },
  "cells": [
    {
      "cell_type": "markdown",
      "metadata": {
        "id": "view-in-github",
        "colab_type": "text"
      },
      "source": [
        "<a href=\"https://colab.research.google.com/github/happymondaynkanta/Tensorflow-Developer-Certificate-Course/blob/main/section_2_15_tensor_fundamentals.ipynb\" target=\"_parent\"><img src=\"https://colab.research.google.com/assets/colab-badge.svg\" alt=\"Open In Colab\"/></a>"
      ]
    },
    {
      "cell_type": "markdown",
      "source": [
        "# Run tensorflow code using tf.function as a way to speed \n",
        "# regular python function"
      ],
      "metadata": {
        "id": "2xwPi7KPVRbs"
      }
    },
    {
      "cell_type": "markdown",
      "source": [
        "# Creating your first tensorflow code\n",
        "# Introduction to tensor"
      ],
      "metadata": {
        "id": "mfq0aThbXkmH"
      }
    },
    {
      "cell_type": "code",
      "execution_count": 1,
      "metadata": {
        "id": "0MQ7GyCqRugz"
      },
      "outputs": [],
      "source": [
        "# importing tensorflow\n",
        "import tensorflow as tf\n",
        "\n"
      ]
    },
    {
      "cell_type": "code",
      "source": [
        "# verifying the tensorflow version\n",
        "print(tf.__version__)\n"
      ],
      "metadata": {
        "colab": {
          "base_uri": "https://localhost:8080/"
        },
        "id": "dvLmz98AVLht",
        "outputId": "0fe7a7da-b903-4158-fb80-5c570276fce7"
      },
      "execution_count": 2,
      "outputs": [
        {
          "output_type": "stream",
          "name": "stdout",
          "text": [
            "2.8.0\n"
          ]
        }
      ]
    },
    {
      "cell_type": "markdown",
      "source": [
        "Creating the first tensor"
      ],
      "metadata": {
        "id": "pACTUJqQan0R"
      }
    },
    {
      "cell_type": "code",
      "source": [
        "# creating the first tensor with tf.constant()\n",
        "scalar = tf.constant(7)\n",
        "scalar\n"
      ],
      "metadata": {
        "colab": {
          "base_uri": "https://localhost:8080/"
        },
        "id": "hfRGwad5auBK",
        "outputId": "65023cde-be5c-4033-afd7-449f88a08a8f"
      },
      "execution_count": 3,
      "outputs": [
        {
          "output_type": "execute_result",
          "data": {
            "text/plain": [
              "<tf.Tensor: shape=(), dtype=int32, numpy=7>"
            ]
          },
          "metadata": {},
          "execution_count": 3
        }
      ]
    },
    {
      "cell_type": "code",
      "source": [
        "# checking the dimension of tensor using ndim. ndim stands for the number of dimension\n",
        "scalar.ndim"
      ],
      "metadata": {
        "colab": {
          "base_uri": "https://localhost:8080/"
        },
        "id": "87FQS4_pcOcv",
        "outputId": "6edf9130-559d-4a39-8cd3-1c9fd58e840b"
      },
      "execution_count": 4,
      "outputs": [
        {
          "output_type": "execute_result",
          "data": {
            "text/plain": [
              "0"
            ]
          },
          "metadata": {},
          "execution_count": 4
        }
      ]
    },
    {
      "cell_type": "markdown",
      "source": [
        "Creating a vector"
      ],
      "metadata": {
        "id": "IHqv94Egc_VI"
      }
    },
    {
      "cell_type": "code",
      "source": [
        "# creating a vector\n",
        "vector = tf.constant([10, 10])\n",
        "vector"
      ],
      "metadata": {
        "colab": {
          "base_uri": "https://localhost:8080/"
        },
        "id": "-AvwsZ_PdCbh",
        "outputId": "5a6ee865-fd52-4c74-9839-6ec4d995009d"
      },
      "execution_count": 5,
      "outputs": [
        {
          "output_type": "execute_result",
          "data": {
            "text/plain": [
              "<tf.Tensor: shape=(2,), dtype=int32, numpy=array([10, 10], dtype=int32)>"
            ]
          },
          "metadata": {},
          "execution_count": 5
        }
      ]
    },
    {
      "cell_type": "code",
      "source": [
        "# checking for the dimension of the vector\n",
        "vector.ndim"
      ],
      "metadata": {
        "colab": {
          "base_uri": "https://localhost:8080/"
        },
        "id": "GXQj-UYddVPg",
        "outputId": "a369df0a-0d82-4b95-afe9-0352a23aa8ec"
      },
      "execution_count": 6,
      "outputs": [
        {
          "output_type": "execute_result",
          "data": {
            "text/plain": [
              "1"
            ]
          },
          "metadata": {},
          "execution_count": 6
        }
      ]
    },
    {
      "cell_type": "markdown",
      "source": [
        "Creating a matric"
      ],
      "metadata": {
        "id": "H3i3V9uzeQEi"
      }
    },
    {
      "cell_type": "code",
      "source": [
        "# creating metric (metric has more than 1 dimension)\n",
        "metric = tf.constant([[10, 9, 6], [9, 10, 7], [3,5, 2]])\n",
        "metric"
      ],
      "metadata": {
        "colab": {
          "base_uri": "https://localhost:8080/"
        },
        "id": "SEJswhXwerXH",
        "outputId": "e68ed778-bbc8-45a1-a6dc-d9b536c61b52"
      },
      "execution_count": 10,
      "outputs": [
        {
          "output_type": "execute_result",
          "data": {
            "text/plain": [
              "<tf.Tensor: shape=(3, 3), dtype=int32, numpy=\n",
              "array([[10,  9,  6],\n",
              "       [ 9, 10,  7],\n",
              "       [ 3,  5,  2]], dtype=int32)>"
            ]
          },
          "metadata": {},
          "execution_count": 10
        }
      ]
    },
    {
      "cell_type": "code",
      "source": [
        "# checking for the dimension of the metric\n",
        "metric.ndim"
      ],
      "metadata": {
        "id": "OFTKb7N7j54j"
      },
      "execution_count": null,
      "outputs": []
    },
    {
      "cell_type": "code",
      "source": [
        "# creating metric (metric has more than 1 dimension)\n",
        "metric1 = tf.constant([[10, 9, 6], [9, 10, 7], [3,5, 2]], dtype =tf.float16) # specify the data type with float\n",
        "metric1"
      ],
      "metadata": {
        "colab": {
          "base_uri": "https://localhost:8080/"
        },
        "id": "KlWNTA8jj9lh",
        "outputId": "b17b9473-83a2-46d3-c0e7-1ccfe54969dc"
      },
      "execution_count": 18,
      "outputs": [
        {
          "output_type": "execute_result",
          "data": {
            "text/plain": [
              "<tf.Tensor: shape=(3, 3), dtype=float16, numpy=\n",
              "array([[10.,  9.,  6.],\n",
              "       [ 9., 10.,  7.],\n",
              "       [ 3.,  5.,  2.]], dtype=float16)>"
            ]
          },
          "metadata": {},
          "execution_count": 18
        }
      ]
    },
    {
      "cell_type": "code",
      "source": [
        "# checking for the dimension of the metric\n",
        "metric1.ndim"
      ],
      "metadata": {
        "colab": {
          "base_uri": "https://localhost:8080/"
        },
        "id": "itaBsVukkFR2",
        "outputId": "c7286754-bf75-4653-d2b5-6dffa812ebdf"
      },
      "execution_count": 19,
      "outputs": [
        {
          "output_type": "execute_result",
          "data": {
            "text/plain": [
              "2"
            ]
          },
          "metadata": {},
          "execution_count": 19
        }
      ]
    },
    {
      "cell_type": "markdown",
      "source": [
        "Creating Tensor and check for its dimension. The number of tensor dimension is equal to the number of metric"
      ],
      "metadata": {
        "id": "3StFlQo6idEk"
      }
    },
    {
      "cell_type": "code",
      "source": [
        "# creating tensor using tf.constant()\n",
        "tensor = tf.constant([[[2,4,5], [5,6,6]], [[9,7,8], [4,8,2]],[[7,1,3],[4,8,9]]])\n",
        "tensor"
      ],
      "metadata": {
        "colab": {
          "base_uri": "https://localhost:8080/"
        },
        "id": "anxuyYk8ikG7",
        "outputId": "2d4ad349-094a-4d7b-e814-221f673a69b4"
      },
      "execution_count": 16,
      "outputs": [
        {
          "output_type": "execute_result",
          "data": {
            "text/plain": [
              "<tf.Tensor: shape=(3, 2, 3), dtype=int32, numpy=\n",
              "array([[[2, 4, 5],\n",
              "        [5, 6, 6]],\n",
              "\n",
              "       [[9, 7, 8],\n",
              "        [4, 8, 2]],\n",
              "\n",
              "       [[7, 1, 3],\n",
              "        [4, 8, 9]]], dtype=int32)>"
            ]
          },
          "metadata": {},
          "execution_count": 16
        }
      ]
    },
    {
      "cell_type": "code",
      "source": [
        "tensor.ndim"
      ],
      "metadata": {
        "colab": {
          "base_uri": "https://localhost:8080/"
        },
        "id": "0XBESdW5jiPp",
        "outputId": "152bd42a-96bc-470b-f5d8-7d4ce7248463"
      },
      "execution_count": 17,
      "outputs": [
        {
          "output_type": "execute_result",
          "data": {
            "text/plain": [
              "3"
            ]
          },
          "metadata": {},
          "execution_count": 17
        }
      ]
    },
    {
      "cell_type": "markdown",
      "source": [
        "What I have created so far:\n",
        "* Scalar: a single nmber\n",
        "* Vector a number with direction\n",
        "* Matric: 2-dimensional array of number\n",
        "* Tensor: an n-dimensional array of number. Tensors are scalar, vector, and metric"
      ],
      "metadata": {
        "id": "x38ChzAEtNWm"
      }
    },
    {
      "cell_type": "code",
      "source": [
        ""
      ],
      "metadata": {
        "id": "TFad-D_EtsnE"
      },
      "execution_count": null,
      "outputs": []
    }
  ]
}