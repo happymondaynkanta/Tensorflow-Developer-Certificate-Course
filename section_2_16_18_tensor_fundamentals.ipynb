{
  "nbformat": 4,
  "nbformat_minor": 0,
  "metadata": {
    "colab": {
      "name": "section 2_16_18_tensor_fundamentals.ipynb",
      "provenance": [],
      "authorship_tag": "ABX9TyMa9M7ypojWZlzTrDVNx/yU",
      "include_colab_link": true
    },
    "kernelspec": {
      "name": "python3",
      "display_name": "Python 3"
    },
    "language_info": {
      "name": "python"
    }
  },
  "cells": [
    {
      "cell_type": "markdown",
      "metadata": {
        "id": "view-in-github",
        "colab_type": "text"
      },
      "source": [
        "<a href=\"https://colab.research.google.com/github/happymondaynkanta/Tensorflow-Developer-Certificate-Course/blob/main/section_2_16_18_tensor_fundamentals.ipynb\" target=\"_parent\"><img src=\"https://colab.research.google.com/assets/colab-badge.svg\" alt=\"Open In Colab\"/></a>"
      ]
    },
    {
      "cell_type": "code",
      "execution_count": null,
      "metadata": {
        "id": "gA6u7iwO_g1Q"
      },
      "outputs": [],
      "source": [
        ""
      ]
    },
    {
      "cell_type": "markdown",
      "source": [
        "## Creating Tensor wit tf.variable()"
      ],
      "metadata": {
        "id": "oEfeoflW_sjV"
      }
    },
    {
      "cell_type": "code",
      "source": [
        "# import tensorflow library\n",
        "import tensorflow as tf"
      ],
      "metadata": {
        "id": "KagKfiC6AYXo"
      },
      "execution_count": 1,
      "outputs": []
    },
    {
      "cell_type": "code",
      "source": [
        "# creating the same tensor with tf.variable() as with tf.constant()\n",
        "c_tensor = tf.Variable([10, 7])\n",
        "unc_tensor = tf.constant([10, 7])\n",
        "c_tensor, unc_tensor"
      ],
      "metadata": {
        "colab": {
          "base_uri": "https://localhost:8080/"
        },
        "id": "T_R15-oV_y_n",
        "outputId": "135b7c89-5628-48cc-cf1c-c9d8c75eabc5"
      },
      "execution_count": 4,
      "outputs": [
        {
          "output_type": "execute_result",
          "data": {
            "text/plain": [
              "(<tf.Variable 'Variable:0' shape=(2,) dtype=int32, numpy=array([10,  7], dtype=int32)>,\n",
              " <tf.Tensor: shape=(2,), dtype=int32, numpy=array([10,  7], dtype=int32)>)"
            ]
          },
          "metadata": {},
          "execution_count": 4
        }
      ]
    },
    {
      "cell_type": "markdown",
      "source": [
        " # Changing elements in our chanageable tensor"
      ],
      "metadata": {
        "id": "7di9B2usD9hs"
      }
    },
    {
      "cell_type": "code",
      "source": [
        "# let's try and change the first elemnet in our changeable tensor using the function .assign()\n",
        "c_tensor[0].assign(7) # we want to change the first index from 10 -> 7\n",
        "c_tensor"
      ],
      "metadata": {
        "colab": {
          "base_uri": "https://localhost:8080/"
        },
        "id": "FVSXihvHEIL4",
        "outputId": "291a07a4-2b9b-4069-b41d-192166136880"
      },
      "execution_count": 7,
      "outputs": [
        {
          "output_type": "execute_result",
          "data": {
            "text/plain": [
              "<tf.Variable 'Variable:0' shape=(2,) dtype=int32, numpy=array([7, 7], dtype=int32)>"
            ]
          },
          "metadata": {},
          "execution_count": 7
        }
      ]
    },
    {
      "cell_type": "code",
      "source": [
        "# let's try and change the second elemnet in our changeable tensor using the function .assign()\n",
        "c_tensor[1].assign(10) # we want to change the second index from 7 -> 10\n",
        "c_tensor"
      ],
      "metadata": {
        "colab": {
          "base_uri": "https://localhost:8080/"
        },
        "id": "xQrJdQMCFkI6",
        "outputId": "28ab8c02-a598-4aac-e033-35b4c31444ef"
      },
      "execution_count": 8,
      "outputs": [
        {
          "output_type": "execute_result",
          "data": {
            "text/plain": [
              "<tf.Variable 'Variable:0' shape=(2,) dtype=int32, numpy=array([ 7, 10], dtype=int32)>"
            ]
          },
          "metadata": {},
          "execution_count": 8
        }
      ]
    },
    {
      "cell_type": "markdown",
      "source": [
        "#### The function .assign() is not an attribute for unchangeable tensors. Unchageable tensors are tensors created using the function tf.constant()"
      ],
      "metadata": {
        "id": "Oxw8aphQF84j"
      }
    },
    {
      "cell_type": "markdown",
      "source": [
        "##### 🔑 Note: Rarely in practice will you need to decide whether to use tf.constant or tf.Variable functions to create tensors, as Tensorflow does this you. However, if in doubt, use tf.constant and change it later if needed"
      ],
      "metadata": {
        "id": "Qad0xE2QJ_Ds"
      }
    },
    {
      "cell_type": "markdown",
      "source": [
        "# Creating Random Tensors"
      ],
      "metadata": {
        "id": "HkMr8E8xJ0qt"
      }
    },
    {
      "cell_type": "markdown",
      "source": [
        "#### Random tensors are tensors of some arbitrary size which contains random number"
      ],
      "metadata": {
        "id": "Ff2FYq-cOVmE"
      }
    },
    {
      "cell_type": "code",
      "source": [
        "# creating two random tensor (but are the same)\n",
        "random_1 = tf.random.Generator.from_seed(42) # the seed is set for reproducibility\n",
        "random_1 = random_1.normal(shape=(3,2))\n",
        "random_2 = tf.random.Generator.from_seed(42) # the seed is set for reproducibility\n",
        "random_2 = random_2.normal(shape=(3,2))\n"
      ],
      "metadata": {
        "id": "xOHHc9hDGY1r"
      },
      "execution_count": 12,
      "outputs": []
    },
    {
      "cell_type": "markdown",
      "source": [
        "results of the generated random tensor"
      ],
      "metadata": {
        "id": "sk15ISg8Tn5u"
      }
    },
    {
      "cell_type": "code",
      "source": [
        "random_1, random_2 "
      ],
      "metadata": {
        "colab": {
          "base_uri": "https://localhost:8080/"
        },
        "id": "brZsJz2mTl30",
        "outputId": "162ef0a6-6c60-406d-b4b1-a56850cd53c7"
      },
      "execution_count": 13,
      "outputs": [
        {
          "output_type": "execute_result",
          "data": {
            "text/plain": [
              "(<tf.Tensor: shape=(3, 2), dtype=float32, numpy=\n",
              " array([[-0.7565803 , -0.06854702],\n",
              "        [ 0.07595026, -1.2573844 ],\n",
              "        [-0.23193763, -1.8107855 ]], dtype=float32)>,\n",
              " <tf.Tensor: shape=(3, 2), dtype=float32, numpy=\n",
              " array([[-0.7565803 , -0.06854702],\n",
              "        [ 0.07595026, -1.2573844 ],\n",
              "        [-0.23193763, -1.8107855 ]], dtype=float32)>)"
            ]
          },
          "metadata": {},
          "execution_count": 13
        }
      ]
    },
    {
      "cell_type": "markdown",
      "source": [
        "Are the tensors equal?"
      ],
      "metadata": {
        "id": "yEHp3HeCTzD6"
      }
    },
    {
      "cell_type": "code",
      "source": [
        "random_1 == random_2 "
      ],
      "metadata": {
        "colab": {
          "base_uri": "https://localhost:8080/"
        },
        "id": "OtcB3RteT23J",
        "outputId": "f4883464-ade3-4efa-fcee-150df19f2b33"
      },
      "execution_count": 14,
      "outputs": [
        {
          "output_type": "execute_result",
          "data": {
            "text/plain": [
              "<tf.Tensor: shape=(3, 2), dtype=bool, numpy=\n",
              "array([[ True,  True],\n",
              "       [ True,  True],\n",
              "       [ True,  True]])>"
            ]
          },
          "metadata": {},
          "execution_count": 14
        }
      ]
    },
    {
      "cell_type": "markdown",
      "source": [
        "Let's change the value of the seed"
      ],
      "metadata": {
        "id": "z1q1vIpUUED0"
      }
    },
    {
      "cell_type": "code",
      "source": [
        "# creating two random tensor (but are the same)\n",
        "random_1 = tf.random.Generator.from_seed(7) # the seed is set for reproducibility\n",
        "random_1 = random_1.normal(shape=(3,2))\n",
        "random_2 = tf.random.Generator.from_seed(7) # the seed is set for reproducibility\n",
        "random_2 = random_2.normal(shape=(3,2))\n",
        "\n",
        "random_1, random_2, random_1 == random_2 "
      ],
      "metadata": {
        "colab": {
          "base_uri": "https://localhost:8080/"
        },
        "id": "guG4LyfLUH6W",
        "outputId": "cfad0c2f-864e-4383-e9ac-48cd54188152"
      },
      "execution_count": 17,
      "outputs": [
        {
          "output_type": "execute_result",
          "data": {
            "text/plain": [
              "(<tf.Tensor: shape=(3, 2), dtype=float32, numpy=\n",
              " array([[-1.3240396 ,  0.28785667],\n",
              "        [-0.8757901 , -0.08857018],\n",
              "        [ 0.69211644,  0.84215707]], dtype=float32)>,\n",
              " <tf.Tensor: shape=(3, 2), dtype=float32, numpy=\n",
              " array([[-1.3240396 ,  0.28785667],\n",
              "        [-0.8757901 , -0.08857018],\n",
              "        [ 0.69211644,  0.84215707]], dtype=float32)>,\n",
              " <tf.Tensor: shape=(3, 2), dtype=bool, numpy=\n",
              " array([[ True,  True],\n",
              "        [ True,  True],\n",
              "        [ True,  True]])>)"
            ]
          },
          "metadata": {},
          "execution_count": 17
        }
      ]
    },
    {
      "cell_type": "markdown",
      "source": [
        "What if we make the seed value different?"
      ],
      "metadata": {
        "id": "lA-tBbquUXIp"
      }
    },
    {
      "cell_type": "code",
      "source": [
        "# creating two random tensor (but are different)\n",
        "random_1 = tf.random.Generator.from_seed(42) # the seed is set for reproducibility\n",
        "random_1 = random_1.normal(shape=(3,2))\n",
        "random_2 = tf.random.Generator.from_seed(7) # the seed is set for reproducibility\n",
        "random_2 = random_2.normal(shape=(3,2))\n",
        "\n",
        "random_1, random_2"
      ],
      "metadata": {
        "colab": {
          "base_uri": "https://localhost:8080/"
        },
        "id": "Znuo6T71Uc20",
        "outputId": "4195b453-2d5e-4700-9a54-b231f51aba6a"
      },
      "execution_count": 18,
      "outputs": [
        {
          "output_type": "execute_result",
          "data": {
            "text/plain": [
              "(<tf.Tensor: shape=(3, 2), dtype=float32, numpy=\n",
              " array([[-0.7565803 , -0.06854702],\n",
              "        [ 0.07595026, -1.2573844 ],\n",
              "        [-0.23193763, -1.8107855 ]], dtype=float32)>,\n",
              " <tf.Tensor: shape=(3, 2), dtype=float32, numpy=\n",
              " array([[-1.3240396 ,  0.28785667],\n",
              "        [-0.8757901 , -0.08857018],\n",
              "        [ 0.69211644,  0.84215707]], dtype=float32)>)"
            ]
          },
          "metadata": {},
          "execution_count": 18
        }
      ]
    },
    {
      "cell_type": "markdown",
      "source": [
        "Are the tensors EQUAL?"
      ],
      "metadata": {
        "id": "M2UCXgcyUr4S"
      }
    },
    {
      "cell_type": "code",
      "source": [
        "random_1 == random_2 "
      ],
      "metadata": {
        "colab": {
          "base_uri": "https://localhost:8080/"
        },
        "id": "8hif1ODWUvu9",
        "outputId": "a2e35d43-3c38-4e3a-b0cd-5080d056fcd0"
      },
      "execution_count": 19,
      "outputs": [
        {
          "output_type": "execute_result",
          "data": {
            "text/plain": [
              "<tf.Tensor: shape=(3, 2), dtype=bool, numpy=\n",
              "array([[False, False],\n",
              "       [False, False],\n",
              "       [False, False]])>"
            ]
          },
          "metadata": {},
          "execution_count": 19
        }
      ]
    },
    {
      "cell_type": "markdown",
      "source": [
        " # Shuffle the order of elements in a Tensor"
      ],
      "metadata": {
        "id": "Se8FzchEYE8Q"
      }
    },
    {
      "cell_type": "code",
      "source": [
        "# shuffle a tensor (this is valuable when you you want to shuffle your dataset so that the inherent order does not affect the learning)\n",
        "tensor_1 = tf.constant([[10, 7], [8, 5], [3, 2]])\n",
        "tensor_1"
      ],
      "metadata": {
        "colab": {
          "base_uri": "https://localhost:8080/"
        },
        "id": "Ej_UCLu7YOYU",
        "outputId": "f27ad3d5-9651-44b8-db8c-864e3b891e06"
      },
      "execution_count": 21,
      "outputs": [
        {
          "output_type": "execute_result",
          "data": {
            "text/plain": [
              "<tf.Tensor: shape=(3, 2), dtype=int32, numpy=\n",
              "array([[10,  7],\n",
              "       [ 8,  5],\n",
              "       [ 3,  2]], dtype=int32)>"
            ]
          },
          "metadata": {},
          "execution_count": 21
        }
      ]
    },
    {
      "cell_type": "markdown",
      "source": [
        "Let's shuffle the tensor we have created"
      ],
      "metadata": {
        "id": "e1IcGaD0ZGaB"
      }
    },
    {
      "cell_type": "code",
      "source": [
        "tf.random.shuffle(tensor_1)"
      ],
      "metadata": {
        "colab": {
          "base_uri": "https://localhost:8080/"
        },
        "id": "3kCbV10RZNKq",
        "outputId": "f90fc3a8-af99-4db4-f04f-594c8f0aa575"
      },
      "execution_count": 34,
      "outputs": [
        {
          "output_type": "execute_result",
          "data": {
            "text/plain": [
              "<tf.Tensor: shape=(3, 2), dtype=int32, numpy=\n",
              "array([[ 8,  5],\n",
              "       [10,  7],\n",
              "       [ 3,  2]], dtype=int32)>"
            ]
          },
          "metadata": {},
          "execution_count": 34
        }
      ]
    },
    {
      "cell_type": "markdown",
      "source": [
        "What happens if we set the value of the operational seed?\n",
        "The element in the tensor shuffles each time we run the operation"
      ],
      "metadata": {
        "id": "uAf0y3YOZcAO"
      }
    },
    {
      "cell_type": "code",
      "source": [
        "tf.random.shuffle(tensor_1, seed=42)"
      ],
      "metadata": {
        "colab": {
          "base_uri": "https://localhost:8080/"
        },
        "id": "8hkeNbJTZn6X",
        "outputId": "9a97d7c9-1c5a-4265-b953-8e515b6778e0"
      },
      "execution_count": 63,
      "outputs": [
        {
          "output_type": "execute_result",
          "data": {
            "text/plain": [
              "<tf.Tensor: shape=(3, 2), dtype=int32, numpy=\n",
              "array([[ 8,  5],\n",
              "       [ 3,  2],\n",
              "       [10,  7]], dtype=int32)>"
            ]
          },
          "metadata": {},
          "execution_count": 63
        }
      ]
    },
    {
      "cell_type": "markdown",
      "source": [
        "What happens if we introduce a global and operational seed values?\n",
        "The elements in the tensor do not shuffle. "
      ],
      "metadata": {
        "id": "BFmjzUKpaRYx"
      }
    },
    {
      "cell_type": "code",
      "source": [
        "tf.random.set_seed(42) # this is the global randm seed\n",
        "tf.random.shuffle(tensor_1) # this is the operational random seed"
      ],
      "metadata": {
        "colab": {
          "base_uri": "https://localhost:8080/"
        },
        "id": "Btarzhoeaa4f",
        "outputId": "cd67b492-a328-4bfc-eeb5-30e8e875bbbd"
      },
      "execution_count": 58,
      "outputs": [
        {
          "output_type": "execute_result",
          "data": {
            "text/plain": [
              "<tf.Tensor: shape=(3, 2), dtype=int32, numpy=\n",
              "array([[ 8,  5],\n",
              "       [ 3,  2],\n",
              "       [10,  7]], dtype=int32)>"
            ]
          },
          "metadata": {},
          "execution_count": 58
        }
      ]
    }
  ]
}