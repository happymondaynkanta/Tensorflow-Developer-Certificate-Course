{
  "nbformat": 4,
  "nbformat_minor": 0,
  "metadata": {
    "colab": {
      "name": "Section 2_19_21_tensor fundamental.ipynb",
      "provenance": [],
      "authorship_tag": "ABX9TyMCckY7Ol4CC1AnSOYCBWst",
      "include_colab_link": true
    },
    "kernelspec": {
      "name": "python3",
      "display_name": "Python 3"
    },
    "language_info": {
      "name": "python"
    }
  },
  "cells": [
    {
      "cell_type": "markdown",
      "metadata": {
        "id": "view-in-github",
        "colab_type": "text"
      },
      "source": [
        "<a href=\"https://colab.research.google.com/github/happymondaynkanta/Tensorflow-Developer-Certificate-Course/blob/main/Section_2_19_21_tensor_fundamental.ipynb\" target=\"_parent\"><img src=\"https://colab.research.google.com/assets/colab-badge.svg\" alt=\"Open In Colab\"/></a>"
      ]
    },
    {
      "cell_type": "markdown",
      "source": [
        "# Other ways to make tensors"
      ],
      "metadata": {
        "id": "hMSBinGdJSNk"
      }
    },
    {
      "cell_type": "markdown",
      "source": [
        "Though you might rarely use these (remember, many tensor operations are done behind the scenes for you), you can use tf.ones() to create a tensor of all ones and tf.zeros() to create a tensor of all zeros"
      ],
      "metadata": {
        "id": "x1eyHj9_JfIx"
      }
    },
    {
      "cell_type": "code",
      "source": [
        "# import tensorflow library\n",
        "import tensorflow as tf\n"
      ],
      "metadata": {
        "colab": {
          "base_uri": "https://localhost:8080/"
        },
        "id": "oy70h4HUJVgO",
        "outputId": "132ab5cb-5527-4045-ea41-591e30eb45f5"
      },
      "execution_count": 2,
      "outputs": [
        {
          "output_type": "execute_result",
          "data": {
            "text/plain": [
              "<tf.Tensor: shape=(3, 2), dtype=float32, numpy=\n",
              "array([[1., 1.],\n",
              "       [1., 1.],\n",
              "       [1., 1.]], dtype=float32)>"
            ]
          },
          "metadata": {},
          "execution_count": 2
        }
      ]
    },
    {
      "cell_type": "code",
      "source": [
        "# Let's create tensor of all ones\n",
        "tf.ones(shape=(3,2))"
      ],
      "metadata": {
        "id": "4XV_0BjRKCLN"
      },
      "execution_count": null,
      "outputs": []
    },
    {
      "cell_type": "code",
      "source": [
        "# Let's create tensor of all ones\n",
        "tf.zeros(shape=(3,2))"
      ],
      "metadata": {
        "colab": {
          "base_uri": "https://localhost:8080/"
        },
        "id": "QE3c0DVoKLiJ",
        "outputId": "ce0c3694-8d09-4620-efb6-903dc7b5d906"
      },
      "execution_count": 3,
      "outputs": [
        {
          "output_type": "execute_result",
          "data": {
            "text/plain": [
              "<tf.Tensor: shape=(3, 2), dtype=float32, numpy=\n",
              "array([[0., 0.],\n",
              "       [0., 0.],\n",
              "       [0., 0.]], dtype=float32)>"
            ]
          },
          "metadata": {},
          "execution_count": 3
        }
      ]
    },
    {
      "cell_type": "markdown",
      "source": [
        "# Turning Numpy array to Tensor"
      ],
      "metadata": {
        "id": "rYdFmxVwLAyG"
      }
    },
    {
      "cell_type": "markdown",
      "source": [
        "* You can also turn NumPy arrays in into tensors.\n",
        "\n",
        "* Remember, the main difference between tensors and NumPy arrays is that tensors can be run on GPUs."
      ],
      "metadata": {
        "id": "D1DEpssSLFD9"
      }
    },
    {
      "cell_type": "markdown",
      "source": [
        "🔑 Note: A matrix or tensor is typically represented by a capital letter (e.g. X or A) where as a vector is typically represented by a lowercase letter (e.g. y or b)."
      ],
      "metadata": {
        "id": "X0BvqYLQLehm"
      }
    },
    {
      "cell_type": "markdown",
      "source": [
        "# X = tf.constant(some_matrix)\n",
        "# y = tf.constant(vector)"
      ],
      "metadata": {
        "id": "DgGR8inYOx6t"
      }
    },
    {
      "cell_type": "code",
      "source": [
        "# import Numpy library\n",
        "import numpy as np\n"
      ],
      "metadata": {
        "id": "g6091eZqK4-i"
      },
      "execution_count": 5,
      "outputs": []
    },
    {
      "cell_type": "markdown",
      "source": [
        "🔑:This is how to create Numpy Array"
      ],
      "metadata": {
        "id": "4OOKwwqIM5Dy"
      }
    },
    {
      "cell_type": "code",
      "source": [
        "numpy_A = np.arange(1, 25, dtype=np.int32)\n",
        "numpy_A"
      ],
      "metadata": {
        "colab": {
          "base_uri": "https://localhost:8080/"
        },
        "id": "bXqT1jN9K-Uf",
        "outputId": "141ef591-7512-40e9-e497-d15baa028fe7"
      },
      "execution_count": 9,
      "outputs": [
        {
          "output_type": "execute_result",
          "data": {
            "text/plain": [
              "array([ 1,  2,  3,  4,  5,  6,  7,  8,  9, 10, 11, 12, 13, 14, 15, 16, 17,\n",
              "       18, 19, 20, 21, 22, 23, 24], dtype=int32)"
            ]
          },
          "metadata": {},
          "execution_count": 9
        }
      ]
    },
    {
      "cell_type": "markdown",
      "source": [
        "🔑: This is how to turn Numpy Array into Tensor"
      ],
      "metadata": {
        "id": "6y9RkOuiNAij"
      }
    },
    {
      "cell_type": "code",
      "source": [
        "\n",
        "A = tf.constant(numpy_A)\n",
        "A"
      ],
      "metadata": {
        "colab": {
          "base_uri": "https://localhost:8080/"
        },
        "id": "zBQh7qWZO6fM",
        "outputId": "89c41bba-4cea-40e3-cfe0-c40e6608a8f3"
      },
      "execution_count": 11,
      "outputs": [
        {
          "output_type": "execute_result",
          "data": {
            "text/plain": [
              "<tf.Tensor: shape=(24,), dtype=int32, numpy=\n",
              "array([ 1,  2,  3,  4,  5,  6,  7,  8,  9, 10, 11, 12, 13, 14, 15, 16, 17,\n",
              "       18, 19, 20, 21, 22, 23, 24], dtype=int32)>"
            ]
          },
          "metadata": {},
          "execution_count": 11
        }
      ]
    },
    {
      "cell_type": "markdown",
      "source": [
        " Specifying the shape of the Tensor"
      ],
      "metadata": {
        "id": "bJHv1n12Ptnq"
      }
    },
    {
      "cell_type": "code",
      "source": [
        "numpy_A = np.arange(1, 25, dtype=np.int32)\n",
        "A = tf.constant(numpy_A, shape=[2, 3, 4]) # you must pass the array you want to turn into tensor and you must specify the shape. Note the shape 2*3*4 has to match the number of element in the array\n",
        "numpy_A, A"
      ],
      "metadata": {
        "colab": {
          "base_uri": "https://localhost:8080/"
        },
        "id": "BmbnNoscNS-g",
        "outputId": "71e9f5a3-1533-4de0-8269-b05c02897de4"
      },
      "execution_count": 7,
      "outputs": [
        {
          "output_type": "execute_result",
          "data": {
            "text/plain": [
              "(array([ 1,  2,  3,  4,  5,  6,  7,  8,  9, 10, 11, 12, 13, 14, 15, 16, 17,\n",
              "        18, 19, 20, 21, 22, 23, 24], dtype=int32),\n",
              " <tf.Tensor: shape=(2, 3, 4), dtype=int32, numpy=\n",
              " array([[[ 1,  2,  3,  4],\n",
              "         [ 5,  6,  7,  8],\n",
              "         [ 9, 10, 11, 12]],\n",
              " \n",
              "        [[13, 14, 15, 16],\n",
              "         [17, 18, 19, 20],\n",
              "         [21, 22, 23, 24]]], dtype=int32)>)"
            ]
          },
          "metadata": {},
          "execution_count": 7
        }
      ]
    },
    {
      "cell_type": "markdown",
      "source": [
        "# Getting information from tensors (shape, rank, size)"
      ],
      "metadata": {
        "id": "Nfzb5qwhSqxK"
      }
    },
    {
      "cell_type": "markdown",
      "source": [
        "There will be times when you'll want to get different pieces of information from your tensors, in particuluar, you should know the following tensor vocabulary:\n",
        "\n",
        "* Shape: The length (number of elements) of each of the dimensions of a tensor.\n",
        "* Rank: The number of tensor dimensions. A scalar has rank 0, a vector has rank 1, a matrix is rank 2, a tensor has rank n.\n",
        "* Axis or Dimension: A particular dimension of a tensor.\n",
        "* Size: The total number of items in the tensor.\n",
        "\n",
        "You'll use these especially when you're trying to line up the shapes of your data to the shapes of your model. For example, making sure the shape of your image tensors are the same shape as your models input layer.\n",
        "\n",
        "We've already seen one of these before using the ndim attribute. Let's see the rest."
      ],
      "metadata": {
        "id": "iTzRvQ2NSuIc"
      }
    },
    {
      "cell_type": "markdown",
      "source": [
        "Let's create a Rank 4 Tensor of Zeros using the function \"tf.zeros()\""
      ],
      "metadata": {
        "id": "hPSvo23hTde_"
      }
    },
    {
      "cell_type": "code",
      "source": [
        "# Rank 4 Tensor is a 4-dimensional Tensor\n",
        "rank_4_tensor = tf.zeros([2,3,4,5])\n",
        "rank_4_tensor"
      ],
      "metadata": {
        "colab": {
          "base_uri": "https://localhost:8080/"
        },
        "id": "72PNYsJ7SsNf",
        "outputId": "6c284f84-72eb-47f1-9b31-8fce38fc5ce0"
      },
      "execution_count": 12,
      "outputs": [
        {
          "output_type": "execute_result",
          "data": {
            "text/plain": [
              "<tf.Tensor: shape=(2, 3, 4, 5), dtype=float32, numpy=\n",
              "array([[[[0., 0., 0., 0., 0.],\n",
              "         [0., 0., 0., 0., 0.],\n",
              "         [0., 0., 0., 0., 0.],\n",
              "         [0., 0., 0., 0., 0.]],\n",
              "\n",
              "        [[0., 0., 0., 0., 0.],\n",
              "         [0., 0., 0., 0., 0.],\n",
              "         [0., 0., 0., 0., 0.],\n",
              "         [0., 0., 0., 0., 0.]],\n",
              "\n",
              "        [[0., 0., 0., 0., 0.],\n",
              "         [0., 0., 0., 0., 0.],\n",
              "         [0., 0., 0., 0., 0.],\n",
              "         [0., 0., 0., 0., 0.]]],\n",
              "\n",
              "\n",
              "       [[[0., 0., 0., 0., 0.],\n",
              "         [0., 0., 0., 0., 0.],\n",
              "         [0., 0., 0., 0., 0.],\n",
              "         [0., 0., 0., 0., 0.]],\n",
              "\n",
              "        [[0., 0., 0., 0., 0.],\n",
              "         [0., 0., 0., 0., 0.],\n",
              "         [0., 0., 0., 0., 0.],\n",
              "         [0., 0., 0., 0., 0.]],\n",
              "\n",
              "        [[0., 0., 0., 0., 0.],\n",
              "         [0., 0., 0., 0., 0.],\n",
              "         [0., 0., 0., 0., 0.],\n",
              "         [0., 0., 0., 0., 0.]]]], dtype=float32)>"
            ]
          },
          "metadata": {},
          "execution_count": 12
        }
      ]
    },
    {
      "cell_type": "markdown",
      "source": [
        "Let's create a Rank 4 Tensor of Ones using the function \"tf.zeros()\""
      ],
      "metadata": {
        "id": "toclGUAHUW3G"
      }
    },
    {
      "cell_type": "code",
      "source": [
        "# Rank 4 Tensor is a 4-dimensional Tensor\n",
        "rank_4_tensor_1 = tf.ones([2,3,4,5])\n",
        "rank_4_tensor_1"
      ],
      "metadata": {
        "colab": {
          "base_uri": "https://localhost:8080/"
        },
        "id": "d07bGAvQUECc",
        "outputId": "d474bc73-b7d2-4dca-b0e5-8d067df1788c"
      },
      "execution_count": 13,
      "outputs": [
        {
          "output_type": "execute_result",
          "data": {
            "text/plain": [
              "<tf.Tensor: shape=(2, 3, 4, 5), dtype=float32, numpy=\n",
              "array([[[[1., 1., 1., 1., 1.],\n",
              "         [1., 1., 1., 1., 1.],\n",
              "         [1., 1., 1., 1., 1.],\n",
              "         [1., 1., 1., 1., 1.]],\n",
              "\n",
              "        [[1., 1., 1., 1., 1.],\n",
              "         [1., 1., 1., 1., 1.],\n",
              "         [1., 1., 1., 1., 1.],\n",
              "         [1., 1., 1., 1., 1.]],\n",
              "\n",
              "        [[1., 1., 1., 1., 1.],\n",
              "         [1., 1., 1., 1., 1.],\n",
              "         [1., 1., 1., 1., 1.],\n",
              "         [1., 1., 1., 1., 1.]]],\n",
              "\n",
              "\n",
              "       [[[1., 1., 1., 1., 1.],\n",
              "         [1., 1., 1., 1., 1.],\n",
              "         [1., 1., 1., 1., 1.],\n",
              "         [1., 1., 1., 1., 1.]],\n",
              "\n",
              "        [[1., 1., 1., 1., 1.],\n",
              "         [1., 1., 1., 1., 1.],\n",
              "         [1., 1., 1., 1., 1.],\n",
              "         [1., 1., 1., 1., 1.]],\n",
              "\n",
              "        [[1., 1., 1., 1., 1.],\n",
              "         [1., 1., 1., 1., 1.],\n",
              "         [1., 1., 1., 1., 1.],\n",
              "         [1., 1., 1., 1., 1.]]]], dtype=float32)>"
            ]
          },
          "metadata": {},
          "execution_count": 13
        }
      ]
    },
    {
      "cell_type": "markdown",
      "source": [
        "## Getting Information from our different Tensors created"
      ],
      "metadata": {
        "id": "46DaSQ7OU2tu"
      }
    },
    {
      "cell_type": "code",
      "source": [
        "rank_4_tensor.shape, rank_4_tensor.ndim, tf.size(rank_4_tensor)"
      ],
      "metadata": {
        "colab": {
          "base_uri": "https://localhost:8080/"
        },
        "id": "6cxkhh9BUyk9",
        "outputId": "b27dd355-9c90-4cbc-c387-1ad00a77e8d8"
      },
      "execution_count": 14,
      "outputs": [
        {
          "output_type": "execute_result",
          "data": {
            "text/plain": [
              "(TensorShape([2, 3, 4, 5]), 4, <tf.Tensor: shape=(), dtype=int32, numpy=120>)"
            ]
          },
          "metadata": {},
          "execution_count": 14
        }
      ]
    },
    {
      "cell_type": "code",
      "source": [
        "rank_4_tensor_1.shape, rank_4_tensor_1.ndim, tf.size(rank_4_tensor_1)"
      ],
      "metadata": {
        "colab": {
          "base_uri": "https://localhost:8080/"
        },
        "id": "t2YlqYB-VWfy",
        "outputId": "7eac97d5-c7fe-41db-da2e-7c1f67bf363b"
      },
      "execution_count": 15,
      "outputs": [
        {
          "output_type": "execute_result",
          "data": {
            "text/plain": [
              "(TensorShape([2, 3, 4, 5]), 4, <tf.Tensor: shape=(), dtype=int32, numpy=120>)"
            ]
          },
          "metadata": {},
          "execution_count": 15
        }
      ]
    },
    {
      "cell_type": "markdown",
      "source": [
        "Let Extract Different Attributes from Our Tensor in a more organized pattern"
      ],
      "metadata": {
        "id": "m5oiWCpXViAY"
      }
    },
    {
      "cell_type": "code",
      "source": [
        "# get the various attribute of the tensors\n",
        "print(\"Datatype of every element:\", rank_4_tensor.dtype )\n",
        "print(\"Number of dimension:\", rank_4_tensor.ndim )\n",
        "print(\"Element along axis 0 of tensor:\", rank_4_tensor.shape[0] )\n",
        "print(\"Element along the last axis of tensor:\", rank_4_tensor.shape[-1] )\n",
        "print(\"shape of the tensor:\", rank_4_tensor.shape )\n",
        "print(\"Total number of elements in the tensor:\", tf.size(rank_4_tensor))\n",
        "print(\"Total number of elements in the tensor in numpy format:\", tf.size(rank_4_tensor).numpy()) # This will convert to numpy"
      ],
      "metadata": {
        "colab": {
          "base_uri": "https://localhost:8080/"
        },
        "id": "xRJ0P6IYVvQE",
        "outputId": "04aa99db-29bb-4d00-8fca-b435ccb6f0ac"
      },
      "execution_count": 16,
      "outputs": [
        {
          "output_type": "stream",
          "name": "stdout",
          "text": [
            "Datatype of every element: <dtype: 'float32'>\n",
            "Number of dimension: 4\n",
            "Element along axis 0 of tensor: 2\n",
            "Element along the last axis of tensor: 5\n",
            "shape of the tensor: (2, 3, 4, 5)\n",
            "Total number of elements in the tensor: tf.Tensor(120, shape=(), dtype=int32)\n",
            "Total number of elements in the tensor in numpy format: 120\n"
          ]
        }
      ]
    },
    {
      "cell_type": "markdown",
      "source": [
        "# Indexin Tensor"
      ],
      "metadata": {
        "id": "RG9u0TMbc7RZ"
      }
    },
    {
      "cell_type": "markdown",
      "source": [
        "* You can also index tensors just like Python lists"
      ],
      "metadata": {
        "id": "nCm3-06zX_u0"
      }
    },
    {
      "cell_type": "code",
      "source": [
        "\n",
        "# First we create our Tensor\n",
        "# Rank 4 Tensor is a 4-dimensional Tensor\n",
        "rank_4_tensor = tf.zeros([2,3,4,5])\n",
        "rank_4_tensor"
      ],
      "metadata": {
        "colab": {
          "base_uri": "https://localhost:8080/"
        },
        "id": "dt3pbP5DcIR6",
        "outputId": "213513a0-2391-4b3c-fe8b-494f7139ac72"
      },
      "execution_count": 17,
      "outputs": [
        {
          "output_type": "execute_result",
          "data": {
            "text/plain": [
              "<tf.Tensor: shape=(2, 3, 4, 5), dtype=float32, numpy=\n",
              "array([[[[0., 0., 0., 0., 0.],\n",
              "         [0., 0., 0., 0., 0.],\n",
              "         [0., 0., 0., 0., 0.],\n",
              "         [0., 0., 0., 0., 0.]],\n",
              "\n",
              "        [[0., 0., 0., 0., 0.],\n",
              "         [0., 0., 0., 0., 0.],\n",
              "         [0., 0., 0., 0., 0.],\n",
              "         [0., 0., 0., 0., 0.]],\n",
              "\n",
              "        [[0., 0., 0., 0., 0.],\n",
              "         [0., 0., 0., 0., 0.],\n",
              "         [0., 0., 0., 0., 0.],\n",
              "         [0., 0., 0., 0., 0.]]],\n",
              "\n",
              "\n",
              "       [[[0., 0., 0., 0., 0.],\n",
              "         [0., 0., 0., 0., 0.],\n",
              "         [0., 0., 0., 0., 0.],\n",
              "         [0., 0., 0., 0., 0.]],\n",
              "\n",
              "        [[0., 0., 0., 0., 0.],\n",
              "         [0., 0., 0., 0., 0.],\n",
              "         [0., 0., 0., 0., 0.],\n",
              "         [0., 0., 0., 0., 0.]],\n",
              "\n",
              "        [[0., 0., 0., 0., 0.],\n",
              "         [0., 0., 0., 0., 0.],\n",
              "         [0., 0., 0., 0., 0.],\n",
              "         [0., 0., 0., 0., 0.]]]], dtype=float32)>"
            ]
          },
          "metadata": {},
          "execution_count": 17
        }
      ]
    },
    {
      "cell_type": "code",
      "source": [
        "# Get the first 2 items of each dimension\n",
        "rank_4_tensor[:2, :2, :2, :2]\n"
      ],
      "metadata": {
        "colab": {
          "base_uri": "https://localhost:8080/"
        },
        "id": "cFkXAxXNcdgw",
        "outputId": "0bad1cd7-1a93-45b2-a036-08bce981d9d2"
      },
      "execution_count": 18,
      "outputs": [
        {
          "output_type": "execute_result",
          "data": {
            "text/plain": [
              "<tf.Tensor: shape=(2, 2, 2, 2), dtype=float32, numpy=\n",
              "array([[[[0., 0.],\n",
              "         [0., 0.]],\n",
              "\n",
              "        [[0., 0.],\n",
              "         [0., 0.]]],\n",
              "\n",
              "\n",
              "       [[[0., 0.],\n",
              "         [0., 0.]],\n",
              "\n",
              "        [[0., 0.],\n",
              "         [0., 0.]]]], dtype=float32)>"
            ]
          },
          "metadata": {},
          "execution_count": 18
        }
      ]
    },
    {
      "cell_type": "code",
      "source": [
        "# Get the first 3 items of each dimension\n",
        "rank_4_tensor[:3, :3, :3, :3]"
      ],
      "metadata": {
        "colab": {
          "base_uri": "https://localhost:8080/"
        },
        "id": "5x9P8OW0dU0-",
        "outputId": "5fbe0955-67aa-4341-dd5e-76f00209ac26"
      },
      "execution_count": 19,
      "outputs": [
        {
          "output_type": "execute_result",
          "data": {
            "text/plain": [
              "<tf.Tensor: shape=(2, 3, 3, 3), dtype=float32, numpy=\n",
              "array([[[[0., 0., 0.],\n",
              "         [0., 0., 0.],\n",
              "         [0., 0., 0.]],\n",
              "\n",
              "        [[0., 0., 0.],\n",
              "         [0., 0., 0.],\n",
              "         [0., 0., 0.]],\n",
              "\n",
              "        [[0., 0., 0.],\n",
              "         [0., 0., 0.],\n",
              "         [0., 0., 0.]]],\n",
              "\n",
              "\n",
              "       [[[0., 0., 0.],\n",
              "         [0., 0., 0.],\n",
              "         [0., 0., 0.]],\n",
              "\n",
              "        [[0., 0., 0.],\n",
              "         [0., 0., 0.],\n",
              "         [0., 0., 0.]],\n",
              "\n",
              "        [[0., 0., 0.],\n",
              "         [0., 0., 0.],\n",
              "         [0., 0., 0.]]]], dtype=float32)>"
            ]
          },
          "metadata": {},
          "execution_count": 19
        }
      ]
    },
    {
      "cell_type": "code",
      "source": [
        "# Get the dimension of eeach index \n",
        "rank_4_tensor[:1, :1, :1, :1]"
      ],
      "metadata": {
        "colab": {
          "base_uri": "https://localhost:8080/"
        },
        "id": "8U3qljjNdco4",
        "outputId": "f906f8cb-c19b-4d37-85ca-9d891db1ba85"
      },
      "execution_count": 20,
      "outputs": [
        {
          "output_type": "execute_result",
          "data": {
            "text/plain": [
              "<tf.Tensor: shape=(1, 1, 1, 1), dtype=float32, numpy=array([[[[0.]]]], dtype=float32)>"
            ]
          },
          "metadata": {},
          "execution_count": 20
        }
      ]
    },
    {
      "cell_type": "code",
      "source": [
        "# Get the dimension from each index except for the final one\n",
        "rank_4_tensor[:1, :1, :1, :]"
      ],
      "metadata": {
        "colab": {
          "base_uri": "https://localhost:8080/"
        },
        "id": "2n1FkzMVdYkc",
        "outputId": "c1082b04-7024-4bad-fcff-a62aa8ae1e60"
      },
      "execution_count": 21,
      "outputs": [
        {
          "output_type": "execute_result",
          "data": {
            "text/plain": [
              "<tf.Tensor: shape=(1, 1, 1, 5), dtype=float32, numpy=array([[[[0., 0., 0., 0., 0.]]]], dtype=float32)>"
            ]
          },
          "metadata": {},
          "execution_count": 21
        }
      ]
    },
    {
      "cell_type": "code",
      "source": [
        "# Get the dimension from each index except for the first one\n",
        "rank_4_tensor[:, :1, :1, :1]"
      ],
      "metadata": {
        "colab": {
          "base_uri": "https://localhost:8080/"
        },
        "id": "WT8mjJU6d8gT",
        "outputId": "d900fdfb-a509-4e2a-d838-ca47915ff7ad"
      },
      "execution_count": 22,
      "outputs": [
        {
          "output_type": "execute_result",
          "data": {
            "text/plain": [
              "<tf.Tensor: shape=(2, 1, 1, 1), dtype=float32, numpy=\n",
              "array([[[[0.]]],\n",
              "\n",
              "\n",
              "       [[[0.]]]], dtype=float32)>"
            ]
          },
          "metadata": {},
          "execution_count": 22
        }
      ]
    },
    {
      "cell_type": "code",
      "source": [
        "# Get the dimension from each index except for the second one\n",
        "rank_4_tensor[:1, :, :1, :1]"
      ],
      "metadata": {
        "colab": {
          "base_uri": "https://localhost:8080/"
        },
        "id": "pdtEziLheLaC",
        "outputId": "eece81e4-3ec2-44ec-a8cf-723daf9271b6"
      },
      "execution_count": 23,
      "outputs": [
        {
          "output_type": "execute_result",
          "data": {
            "text/plain": [
              "<tf.Tensor: shape=(1, 3, 1, 1), dtype=float32, numpy=\n",
              "array([[[[0.]],\n",
              "\n",
              "        [[0.]],\n",
              "\n",
              "        [[0.]]]], dtype=float32)>"
            ]
          },
          "metadata": {},
          "execution_count": 23
        }
      ]
    },
    {
      "cell_type": "markdown",
      "source": [
        "# We want to create Tensor using the function \"tf.constant\" and the index the tensor"
      ],
      "metadata": {
        "id": "6RaaRZyDemMq"
      }
    },
    {
      "cell_type": "code",
      "source": [
        "# Create a rank 2 tensor (2 dimensions) \n",
        "rank_2_tensor = tf.constant([[12, 5],\n",
        "                             [8, 2]])\n",
        "rank_2_tensor\n",
        "\n"
      ],
      "metadata": {
        "colab": {
          "base_uri": "https://localhost:8080/"
        },
        "id": "i6RljVwoeR1y",
        "outputId": "431fe34f-3404-4815-c037-94154bc16cfb"
      },
      "execution_count": 24,
      "outputs": [
        {
          "output_type": "execute_result",
          "data": {
            "text/plain": [
              "<tf.Tensor: shape=(2, 2), dtype=int32, numpy=\n",
              "array([[12,  5],\n",
              "       [ 8,  2]], dtype=int32)>"
            ]
          },
          "metadata": {},
          "execution_count": 24
        }
      ]
    },
    {
      "cell_type": "code",
      "source": [
        "# Get the first item of each row\n",
        "rank_2_tensor[:, 0]"
      ],
      "metadata": {
        "colab": {
          "base_uri": "https://localhost:8080/"
        },
        "id": "5VGtqphYfAQp",
        "outputId": "2453885c-9db7-4ae5-99c6-b05dccd2a56a"
      },
      "execution_count": 30,
      "outputs": [
        {
          "output_type": "execute_result",
          "data": {
            "text/plain": [
              "<tf.Tensor: shape=(2,), dtype=int32, numpy=array([12,  8], dtype=int32)>"
            ]
          },
          "metadata": {},
          "execution_count": 30
        }
      ]
    },
    {
      "cell_type": "code",
      "source": [
        "# Get the last item of each row\n",
        "rank_2_tensor[:, -1]"
      ],
      "metadata": {
        "colab": {
          "base_uri": "https://localhost:8080/"
        },
        "id": "T5tLiMqpfNTK",
        "outputId": "254390d1-8e53-448f-b83a-092fe5210639"
      },
      "execution_count": 31,
      "outputs": [
        {
          "output_type": "execute_result",
          "data": {
            "text/plain": [
              "<tf.Tensor: shape=(2,), dtype=int32, numpy=array([5, 2], dtype=int32)>"
            ]
          },
          "metadata": {},
          "execution_count": 31
        }
      ]
    },
    {
      "cell_type": "markdown",
      "source": [
        "# You can also add dimensions to your tensor whilst keeping the same information present using tf.newaxis."
      ],
      "metadata": {
        "id": "v_QzqPY5gFak"
      }
    },
    {
      "cell_type": "markdown",
      "source": [
        "* Adding an extra dimension to our tensor"
      ],
      "metadata": {
        "id": "mmOGQ-6KhJoq"
      }
    },
    {
      "cell_type": "code",
      "source": [
        "# First we will create the 2-dimensional tensor\n",
        "rank_2_tensor = tf.constant([[12, 5],\n",
        "                             [8, 2]])\n",
        "rank_2_tensor  # shape (2, 2),\n"
      ],
      "metadata": {
        "colab": {
          "base_uri": "https://localhost:8080/"
        },
        "id": "W6FgwgApf9iC",
        "outputId": "e6e3abfc-238b-4129-a229-7d93d79207f1"
      },
      "execution_count": 32,
      "outputs": [
        {
          "output_type": "execute_result",
          "data": {
            "text/plain": [
              "<tf.Tensor: shape=(2, 2), dtype=int32, numpy=\n",
              "array([[12,  5],\n",
              "       [ 8,  2]], dtype=int32)>"
            ]
          },
          "metadata": {},
          "execution_count": 32
        }
      ]
    },
    {
      "cell_type": "code",
      "source": [
        "# secondly, we will add an extra dimension (to the end)\n",
        "rank_3_tensor = rank_2_tensor[..., tf.newaxis] # in Python \"...\" means \"all dimensions prior to\"\n",
        "rank_3_tensor #shape (2, 2, 1)"
      ],
      "metadata": {
        "colab": {
          "base_uri": "https://localhost:8080/"
        },
        "id": "C8VC1orXh2Nr",
        "outputId": "a585069c-4b10-454b-9f3f-d43985e040ce"
      },
      "execution_count": 33,
      "outputs": [
        {
          "output_type": "execute_result",
          "data": {
            "text/plain": [
              "<tf.Tensor: shape=(2, 2, 1), dtype=int32, numpy=\n",
              "array([[[12],\n",
              "        [ 5]],\n",
              "\n",
              "       [[ 8],\n",
              "        [ 2]]], dtype=int32)>"
            ]
          },
          "metadata": {},
          "execution_count": 33
        }
      ]
    },
    {
      "cell_type": "code",
      "source": [
        "rank_2_tensor, rank_3_tensor # shape (2, 2) and  shape (2, 2, 1)"
      ],
      "metadata": {
        "colab": {
          "base_uri": "https://localhost:8080/"
        },
        "id": "e-uM2cPWh8-a",
        "outputId": "915532b4-04d4-4a0f-f107-10408bae41ba"
      },
      "execution_count": 34,
      "outputs": [
        {
          "output_type": "execute_result",
          "data": {
            "text/plain": [
              "(<tf.Tensor: shape=(2, 2), dtype=int32, numpy=\n",
              " array([[12,  5],\n",
              "        [ 8,  2]], dtype=int32)>,\n",
              " <tf.Tensor: shape=(2, 2, 1), dtype=int32, numpy=\n",
              " array([[[12],\n",
              "         [ 5]],\n",
              " \n",
              "        [[ 8],\n",
              "         [ 2]]], dtype=int32)>)"
            ]
          },
          "metadata": {},
          "execution_count": 34
        }
      ]
    },
    {
      "cell_type": "markdown",
      "source": [
        "You can achieve the same using tf.expand_dims()."
      ],
      "metadata": {
        "id": "H384GnMHik_t"
      }
    },
    {
      "cell_type": "code",
      "source": [
        "tf.expand_dims(rank_2_tensor, axis=-1) # \"-1\" means last axis"
      ],
      "metadata": {
        "colab": {
          "base_uri": "https://localhost:8080/"
        },
        "id": "WDcUSKOQiZXO",
        "outputId": "d6e625b4-4a8c-4cc5-ca79-959ba629bc4d"
      },
      "execution_count": 35,
      "outputs": [
        {
          "output_type": "execute_result",
          "data": {
            "text/plain": [
              "<tf.Tensor: shape=(2, 2, 1), dtype=int32, numpy=\n",
              "array([[[12],\n",
              "        [ 5]],\n",
              "\n",
              "       [[ 8],\n",
              "        [ 2]]], dtype=int32)>"
            ]
          },
          "metadata": {},
          "execution_count": 35
        }
      ]
    },
    {
      "cell_type": "code",
      "source": [
        "tf.expand_dims(rank_2_tensor, axis=0) # \"-1\" means last axis"
      ],
      "metadata": {
        "colab": {
          "base_uri": "https://localhost:8080/"
        },
        "id": "SORUVpTRjV_E",
        "outputId": "ba3f7529-7ff7-4895-923c-c4a0ea218ff4"
      },
      "execution_count": 36,
      "outputs": [
        {
          "output_type": "execute_result",
          "data": {
            "text/plain": [
              "<tf.Tensor: shape=(1, 2, 2), dtype=int32, numpy=\n",
              "array([[[12,  5],\n",
              "        [ 8,  2]]], dtype=int32)>"
            ]
          },
          "metadata": {},
          "execution_count": 36
        }
      ]
    },
    {
      "cell_type": "code",
      "source": [
        ""
      ],
      "metadata": {
        "id": "aTop8Ei-jozQ"
      },
      "execution_count": null,
      "outputs": []
    }
  ]
}